{
 "cells": [
  {
   "cell_type": "markdown",
   "id": "bc82309b",
   "metadata": {
    "toc": true
   },
   "source": [
    "<h1>목차<span class=\"tocSkip\"></span></h1>\n",
    "<div class=\"toc\"><ul class=\"toc-item\"><li><span><a href=\"#변수-중요도-확인을-위한-x,-y-데이터-분할-및-Label-Encoding-진행\" data-toc-modified-id=\"변수-중요도-확인을-위한-x,-y-데이터-분할-및-Label-Encoding-진행-1\"><span class=\"toc-item-num\">1&nbsp;&nbsp;</span>변수 중요도 확인을 위한 x, y 데이터 분할 및 Label Encoding 진행</a></span></li><li><span><a href=\"#Decision-Tree-Regreesor를-통한-변수-중요도-확인\" data-toc-modified-id=\"Decision-Tree-Regreesor를-통한-변수-중요도-확인-2\"><span class=\"toc-item-num\">2&nbsp;&nbsp;</span>Decision Tree Regreesor를 통한 변수 중요도 확인</a></span></li><li><span><a href=\"#RandomForestRegressor로-변수-중요도-확인\" data-toc-modified-id=\"RandomForestRegressor로-변수-중요도-확인-3\"><span class=\"toc-item-num\">3&nbsp;&nbsp;</span>RandomForestRegressor로 변수 중요도 확인</a></span></li><li><span><a href=\"#GradientBoostingRegressor를-통한-변수-중요도-확인\" data-toc-modified-id=\"GradientBoostingRegressor를-통한-변수-중요도-확인-4\"><span class=\"toc-item-num\">4&nbsp;&nbsp;</span>GradientBoostingRegressor를 통한 변수 중요도 확인</a></span><ul class=\"toc-item\"><li><span><a href=\"#>>-&quot;new_state&quot;-(지역)-변수를-추가하니-해당-변수의-중요도가-너무-높음.-해당-변수를-제외하고-나머지-변수들의-중요도를-보기-위해-변수-drop-후-다시-feature_importance-확인\" data-toc-modified-id=\">>-&quot;new_state&quot;-(지역)-변수를-추가하니-해당-변수의-중요도가-너무-높음.-해당-변수를-제외하고-나머지-변수들의-중요도를-보기-위해-변수-drop-후-다시-feature_importance-확인-4.1\"><span class=\"toc-item-num\">4.1&nbsp;&nbsp;</span>&gt;&gt; \"new_state\" (지역) 변수를 추가하니 해당 변수의 중요도가 너무 높음. 해당 변수를 제외하고 나머지 변수들의 중요도를 보기 위해 변수 drop 후 다시 feature_importance 확인</a></span></li></ul></li><li><span><a href=\"#new_state-컬럼-drop-후-DecisionTreeRegressor로-변수-중요도-다시-확인\" data-toc-modified-id=\"new_state-컬럼-drop-후-DecisionTreeRegressor로-변수-중요도-다시-확인-5\"><span class=\"toc-item-num\">5&nbsp;&nbsp;</span>new_state 컬럼 drop 후 DecisionTreeRegressor로 변수 중요도 다시 확인</a></span></li><li><span><a href=\"#new_state-컬럼-drop-후-RandomForestRegressor로-변수-중요도-다시-확인\" data-toc-modified-id=\"new_state-컬럼-drop-후-RandomForestRegressor로-변수-중요도-다시-확인-6\"><span class=\"toc-item-num\">6&nbsp;&nbsp;</span>new_state 컬럼 drop 후 RandomForestRegressor로 변수 중요도 다시 확인</a></span></li><li><span><a href=\"#new_state-컬럼-drop-후-GradientBoostingRegressor로-변수-중요도-다시-확인\" data-toc-modified-id=\"new_state-컬럼-drop-후-GradientBoostingRegressor로-변수-중요도-다시-확인-7\"><span class=\"toc-item-num\">7&nbsp;&nbsp;</span>new_state 컬럼 drop 후 GradientBoostingRegressor로 변수 중요도 다시 확인</a></span></li><li><span><a href=\"#설명변수의-단위가-다르고,-정규성-검정-결과-정규성을-띄지-않는-변수(cctv_cnt,-smalight_cnt)-들이-있어서-min-max-scailing-진행-해보기로-함\" data-toc-modified-id=\"설명변수의-단위가-다르고,-정규성-검정-결과-정규성을-띄지-않는-변수(cctv_cnt,-smalight_cnt)-들이-있어서-min-max-scailing-진행-해보기로-함-8\"><span class=\"toc-item-num\">8&nbsp;&nbsp;</span>설명변수의 단위가 다르고, 정규성 검정 결과 정규성을 띄지 않는 변수(cctv_cnt, smalight_cnt) 들이 있어서 min-max scailing 진행 해보기로 함</a></span></li><li><span><a href=\"#Min-Max-Scale-후-DecisionTreeRegressor로-설명변수-중요도-확인\" data-toc-modified-id=\"Min-Max-Scale-후-DecisionTreeRegressor로-설명변수-중요도-확인-9\"><span class=\"toc-item-num\">9&nbsp;&nbsp;</span>Min-Max Scale 후 DecisionTreeRegressor로 설명변수 중요도 확인</a></span></li></ul></div>"
   ]
  },
  {
   "cell_type": "code",
   "execution_count": 1,
   "id": "a9a0dd97",
   "metadata": {},
   "outputs": [],
   "source": [
    "import pandas as pd\n",
    "import numpy as np"
   ]
  },
  {
   "cell_type": "code",
   "execution_count": 2,
   "id": "6fdf25ad",
   "metadata": {
    "scrolled": true
   },
   "outputs": [
    {
     "data": {
      "text/html": [
       "<div>\n",
       "<style scoped>\n",
       "    .dataframe tbody tr th:only-of-type {\n",
       "        vertical-align: middle;\n",
       "    }\n",
       "\n",
       "    .dataframe tbody tr th {\n",
       "        vertical-align: top;\n",
       "    }\n",
       "\n",
       "    .dataframe thead th {\n",
       "        text-align: right;\n",
       "    }\n",
       "</style>\n",
       "<table border=\"1\" class=\"dataframe\">\n",
       "  <thead>\n",
       "    <tr style=\"text-align: right;\">\n",
       "      <th></th>\n",
       "      <th>state</th>\n",
       "      <th>city</th>\n",
       "      <th>visit_cnt</th>\n",
       "      <th>cctv_cnt</th>\n",
       "      <th>sclight_cnt</th>\n",
       "      <th>smalight_cnt</th>\n",
       "      <th>crime_rate</th>\n",
       "      <th>avg_pop_density</th>\n",
       "      <th>mean_hours</th>\n",
       "      <th>mean_days</th>\n",
       "      <th>new_state</th>\n",
       "    </tr>\n",
       "  </thead>\n",
       "  <tbody>\n",
       "    <tr>\n",
       "      <th>0</th>\n",
       "      <td>강원도</td>\n",
       "      <td>정선군</td>\n",
       "      <td>8151609</td>\n",
       "      <td>515.0</td>\n",
       "      <td>4391.0</td>\n",
       "      <td>13.0</td>\n",
       "      <td>0.0271</td>\n",
       "      <td>90.36</td>\n",
       "      <td>427.8</td>\n",
       "      <td>1.62</td>\n",
       "      <td>강원도 정선군</td>\n",
       "    </tr>\n",
       "    <tr>\n",
       "      <th>1</th>\n",
       "      <td>강원도</td>\n",
       "      <td>평창군</td>\n",
       "      <td>13399820</td>\n",
       "      <td>190.0</td>\n",
       "      <td>6747.0</td>\n",
       "      <td>46.0</td>\n",
       "      <td>0.0271</td>\n",
       "      <td>90.36</td>\n",
       "      <td>395.8</td>\n",
       "      <td>1.62</td>\n",
       "      <td>강원도 평창군</td>\n",
       "    </tr>\n",
       "    <tr>\n",
       "      <th>2</th>\n",
       "      <td>강원도</td>\n",
       "      <td>홍천군</td>\n",
       "      <td>15125927</td>\n",
       "      <td>428.0</td>\n",
       "      <td>1191.0</td>\n",
       "      <td>37.0</td>\n",
       "      <td>0.0271</td>\n",
       "      <td>90.36</td>\n",
       "      <td>388.8</td>\n",
       "      <td>1.54</td>\n",
       "      <td>강원도 홍천군</td>\n",
       "    </tr>\n",
       "    <tr>\n",
       "      <th>3</th>\n",
       "      <td>강원도</td>\n",
       "      <td>양구군</td>\n",
       "      <td>1828609</td>\n",
       "      <td>296.0</td>\n",
       "      <td>190.0</td>\n",
       "      <td>22.0</td>\n",
       "      <td>0.0271</td>\n",
       "      <td>90.36</td>\n",
       "      <td>387.2</td>\n",
       "      <td>1.80</td>\n",
       "      <td>강원도 양구군</td>\n",
       "    </tr>\n",
       "    <tr>\n",
       "      <th>4</th>\n",
       "      <td>강원도</td>\n",
       "      <td>고성군</td>\n",
       "      <td>11612683</td>\n",
       "      <td>422.0</td>\n",
       "      <td>4391.0</td>\n",
       "      <td>94.0</td>\n",
       "      <td>0.0271</td>\n",
       "      <td>90.36</td>\n",
       "      <td>375.2</td>\n",
       "      <td>1.56</td>\n",
       "      <td>강원도 고성군</td>\n",
       "    </tr>\n",
       "    <tr>\n",
       "      <th>...</th>\n",
       "      <td>...</td>\n",
       "      <td>...</td>\n",
       "      <td>...</td>\n",
       "      <td>...</td>\n",
       "      <td>...</td>\n",
       "      <td>...</td>\n",
       "      <td>...</td>\n",
       "      <td>...</td>\n",
       "      <td>...</td>\n",
       "      <td>...</td>\n",
       "      <td>...</td>\n",
       "    </tr>\n",
       "    <tr>\n",
       "      <th>73</th>\n",
       "      <td>충청북도</td>\n",
       "      <td>제천시</td>\n",
       "      <td>12125010</td>\n",
       "      <td>979.0</td>\n",
       "      <td>9024.0</td>\n",
       "      <td>314.0</td>\n",
       "      <td>0.0299</td>\n",
       "      <td>219.20</td>\n",
       "      <td>324.8</td>\n",
       "      <td>1.60</td>\n",
       "      <td>충청북도 제천시</td>\n",
       "    </tr>\n",
       "    <tr>\n",
       "      <th>74</th>\n",
       "      <td>충청북도</td>\n",
       "      <td>보은군</td>\n",
       "      <td>4737641</td>\n",
       "      <td>316.0</td>\n",
       "      <td>6349.0</td>\n",
       "      <td>99.0</td>\n",
       "      <td>0.0299</td>\n",
       "      <td>219.20</td>\n",
       "      <td>298.2</td>\n",
       "      <td>1.54</td>\n",
       "      <td>충청북도 보은군</td>\n",
       "    </tr>\n",
       "    <tr>\n",
       "      <th>75</th>\n",
       "      <td>충청북도</td>\n",
       "      <td>충주시</td>\n",
       "      <td>14797862</td>\n",
       "      <td>1578.0</td>\n",
       "      <td>10600.0</td>\n",
       "      <td>219.0</td>\n",
       "      <td>0.0299</td>\n",
       "      <td>219.20</td>\n",
       "      <td>296.8</td>\n",
       "      <td>1.64</td>\n",
       "      <td>충청북도 충주시</td>\n",
       "    </tr>\n",
       "    <tr>\n",
       "      <th>76</th>\n",
       "      <td>충청북도</td>\n",
       "      <td>영동군</td>\n",
       "      <td>4133509</td>\n",
       "      <td>1.0</td>\n",
       "      <td>6076.0</td>\n",
       "      <td>112.0</td>\n",
       "      <td>0.0299</td>\n",
       "      <td>219.20</td>\n",
       "      <td>296.4</td>\n",
       "      <td>1.64</td>\n",
       "      <td>충청북도 영동군</td>\n",
       "    </tr>\n",
       "    <tr>\n",
       "      <th>77</th>\n",
       "      <td>충청북도</td>\n",
       "      <td>단양군</td>\n",
       "      <td>6679972</td>\n",
       "      <td>287.0</td>\n",
       "      <td>1499.0</td>\n",
       "      <td>21.0</td>\n",
       "      <td>0.0299</td>\n",
       "      <td>219.20</td>\n",
       "      <td>283.2</td>\n",
       "      <td>1.48</td>\n",
       "      <td>충청북도 단양군</td>\n",
       "    </tr>\n",
       "  </tbody>\n",
       "</table>\n",
       "<p>78 rows × 11 columns</p>\n",
       "</div>"
      ],
      "text/plain": [
       "   state city  visit_cnt  cctv_cnt  sclight_cnt  smalight_cnt  crime_rate  \\\n",
       "0    강원도  정선군    8151609     515.0       4391.0          13.0      0.0271   \n",
       "1    강원도  평창군   13399820     190.0       6747.0          46.0      0.0271   \n",
       "2    강원도  홍천군   15125927     428.0       1191.0          37.0      0.0271   \n",
       "3    강원도  양구군    1828609     296.0        190.0          22.0      0.0271   \n",
       "4    강원도  고성군   11612683     422.0       4391.0          94.0      0.0271   \n",
       "..   ...  ...        ...       ...          ...           ...         ...   \n",
       "73  충청북도  제천시   12125010     979.0       9024.0         314.0      0.0299   \n",
       "74  충청북도  보은군    4737641     316.0       6349.0          99.0      0.0299   \n",
       "75  충청북도  충주시   14797862    1578.0      10600.0         219.0      0.0299   \n",
       "76  충청북도  영동군    4133509       1.0       6076.0         112.0      0.0299   \n",
       "77  충청북도  단양군    6679972     287.0       1499.0          21.0      0.0299   \n",
       "\n",
       "    avg_pop_density  mean_hours  mean_days new_state  \n",
       "0             90.36       427.8       1.62   강원도 정선군  \n",
       "1             90.36       395.8       1.62   강원도 평창군  \n",
       "2             90.36       388.8       1.54   강원도 홍천군  \n",
       "3             90.36       387.2       1.80   강원도 양구군  \n",
       "4             90.36       375.2       1.56   강원도 고성군  \n",
       "..              ...         ...        ...       ...  \n",
       "73           219.20       324.8       1.60  충청북도 제천시  \n",
       "74           219.20       298.2       1.54  충청북도 보은군  \n",
       "75           219.20       296.8       1.64  충청북도 충주시  \n",
       "76           219.20       296.4       1.64  충청북도 영동군  \n",
       "77           219.20       283.2       1.48  충청북도 단양군  \n",
       "\n",
       "[78 rows x 11 columns]"
      ]
     },
     "execution_count": 2,
     "metadata": {},
     "output_type": "execute_result"
    }
   ],
   "source": [
    "df_final = pd.read_csv('./df_security_concat_9.csv', encoding='cp949')\n",
    "df_final"
   ]
  },
  {
   "cell_type": "markdown",
   "id": "9c8123a4",
   "metadata": {},
   "source": [
    "## 변수 중요도 확인을 위한 x, y 데이터 분할 및 Label Encoding 진행"
   ]
  },
  {
   "cell_type": "code",
   "execution_count": 3,
   "id": "e931234e",
   "metadata": {
    "scrolled": true
   },
   "outputs": [
    {
     "data": {
      "text/html": [
       "<div>\n",
       "<style scoped>\n",
       "    .dataframe tbody tr th:only-of-type {\n",
       "        vertical-align: middle;\n",
       "    }\n",
       "\n",
       "    .dataframe tbody tr th {\n",
       "        vertical-align: top;\n",
       "    }\n",
       "\n",
       "    .dataframe thead th {\n",
       "        text-align: right;\n",
       "    }\n",
       "</style>\n",
       "<table border=\"1\" class=\"dataframe\">\n",
       "  <thead>\n",
       "    <tr style=\"text-align: right;\">\n",
       "      <th></th>\n",
       "      <th>visit_cnt</th>\n",
       "      <th>cctv_cnt</th>\n",
       "      <th>sclight_cnt</th>\n",
       "      <th>smalight_cnt</th>\n",
       "      <th>new_state</th>\n",
       "    </tr>\n",
       "  </thead>\n",
       "  <tbody>\n",
       "    <tr>\n",
       "      <th>0</th>\n",
       "      <td>8151609</td>\n",
       "      <td>515.0</td>\n",
       "      <td>4391.0</td>\n",
       "      <td>13.0</td>\n",
       "      <td>강원도 정선군</td>\n",
       "    </tr>\n",
       "    <tr>\n",
       "      <th>1</th>\n",
       "      <td>13399820</td>\n",
       "      <td>190.0</td>\n",
       "      <td>6747.0</td>\n",
       "      <td>46.0</td>\n",
       "      <td>강원도 평창군</td>\n",
       "    </tr>\n",
       "    <tr>\n",
       "      <th>2</th>\n",
       "      <td>15125927</td>\n",
       "      <td>428.0</td>\n",
       "      <td>1191.0</td>\n",
       "      <td>37.0</td>\n",
       "      <td>강원도 홍천군</td>\n",
       "    </tr>\n",
       "    <tr>\n",
       "      <th>3</th>\n",
       "      <td>1828609</td>\n",
       "      <td>296.0</td>\n",
       "      <td>190.0</td>\n",
       "      <td>22.0</td>\n",
       "      <td>강원도 양구군</td>\n",
       "    </tr>\n",
       "    <tr>\n",
       "      <th>4</th>\n",
       "      <td>11612683</td>\n",
       "      <td>422.0</td>\n",
       "      <td>4391.0</td>\n",
       "      <td>94.0</td>\n",
       "      <td>강원도 고성군</td>\n",
       "    </tr>\n",
       "    <tr>\n",
       "      <th>...</th>\n",
       "      <td>...</td>\n",
       "      <td>...</td>\n",
       "      <td>...</td>\n",
       "      <td>...</td>\n",
       "      <td>...</td>\n",
       "    </tr>\n",
       "    <tr>\n",
       "      <th>73</th>\n",
       "      <td>12125010</td>\n",
       "      <td>979.0</td>\n",
       "      <td>9024.0</td>\n",
       "      <td>314.0</td>\n",
       "      <td>충청북도 제천시</td>\n",
       "    </tr>\n",
       "    <tr>\n",
       "      <th>74</th>\n",
       "      <td>4737641</td>\n",
       "      <td>316.0</td>\n",
       "      <td>6349.0</td>\n",
       "      <td>99.0</td>\n",
       "      <td>충청북도 보은군</td>\n",
       "    </tr>\n",
       "    <tr>\n",
       "      <th>75</th>\n",
       "      <td>14797862</td>\n",
       "      <td>1578.0</td>\n",
       "      <td>10600.0</td>\n",
       "      <td>219.0</td>\n",
       "      <td>충청북도 충주시</td>\n",
       "    </tr>\n",
       "    <tr>\n",
       "      <th>76</th>\n",
       "      <td>4133509</td>\n",
       "      <td>1.0</td>\n",
       "      <td>6076.0</td>\n",
       "      <td>112.0</td>\n",
       "      <td>충청북도 영동군</td>\n",
       "    </tr>\n",
       "    <tr>\n",
       "      <th>77</th>\n",
       "      <td>6679972</td>\n",
       "      <td>287.0</td>\n",
       "      <td>1499.0</td>\n",
       "      <td>21.0</td>\n",
       "      <td>충청북도 단양군</td>\n",
       "    </tr>\n",
       "  </tbody>\n",
       "</table>\n",
       "<p>78 rows × 5 columns</p>\n",
       "</div>"
      ],
      "text/plain": [
       "    visit_cnt  cctv_cnt  sclight_cnt  smalight_cnt new_state\n",
       "0     8151609     515.0       4391.0          13.0   강원도 정선군\n",
       "1    13399820     190.0       6747.0          46.0   강원도 평창군\n",
       "2    15125927     428.0       1191.0          37.0   강원도 홍천군\n",
       "3     1828609     296.0        190.0          22.0   강원도 양구군\n",
       "4    11612683     422.0       4391.0          94.0   강원도 고성군\n",
       "..        ...       ...          ...           ...       ...\n",
       "73   12125010     979.0       9024.0         314.0  충청북도 제천시\n",
       "74    4737641     316.0       6349.0          99.0  충청북도 보은군\n",
       "75   14797862    1578.0      10600.0         219.0  충청북도 충주시\n",
       "76    4133509       1.0       6076.0         112.0  충청북도 영동군\n",
       "77    6679972     287.0       1499.0          21.0  충청북도 단양군\n",
       "\n",
       "[78 rows x 5 columns]"
      ]
     },
     "execution_count": 3,
     "metadata": {},
     "output_type": "execute_result"
    }
   ],
   "source": [
    "df_final_x = df_final.drop(['state', 'city', 'crime_rate', 'avg_pop_density', 'mean_days', 'mean_hours'], axis =1)\n",
    "df_final_x"
   ]
  },
  {
   "cell_type": "code",
   "execution_count": 4,
   "id": "2e8b2a31",
   "metadata": {},
   "outputs": [],
   "source": [
    "df_final_y = df_final.crime_rate"
   ]
  },
  {
   "cell_type": "code",
   "execution_count": 5,
   "id": "64b440c0",
   "metadata": {
    "scrolled": false
   },
   "outputs": [
    {
     "data": {
      "text/plain": [
       "Index(['visit_cnt', 'cctv_cnt', 'sclight_cnt', 'smalight_cnt', 'new_state'], dtype='object')"
      ]
     },
     "execution_count": 5,
     "metadata": {},
     "output_type": "execute_result"
    }
   ],
   "source": [
    "v_feature_name=df_final_x.columns\n",
    "v_feature_name"
   ]
  },
  {
   "cell_type": "code",
   "execution_count": 6,
   "id": "08628bc0",
   "metadata": {},
   "outputs": [],
   "source": [
    "from sklearn.preprocessing import LabelEncoder"
   ]
  },
  {
   "cell_type": "code",
   "execution_count": 7,
   "id": "f506d215",
   "metadata": {},
   "outputs": [
    {
     "name": "stdout",
     "output_type": "stream",
     "text": [
      "Done.\n"
     ]
    }
   ],
   "source": [
    "qual_col = ['new_state']\n",
    "\n",
    "for i in qual_col:\n",
    "    le = LabelEncoder()\n",
    "    le = le.fit(df_final_x[i])\n",
    "    df_final_x[i] = le.transform(df_final_x[i])\n",
    "print('Done.')"
   ]
  },
  {
   "cell_type": "markdown",
   "id": "44b96024",
   "metadata": {},
   "source": [
    "## Decision Tree Regreesor를 통한 변수 중요도 확인"
   ]
  },
  {
   "cell_type": "code",
   "execution_count": 8,
   "id": "5e8f1bdc",
   "metadata": {},
   "outputs": [],
   "source": [
    "from sklearn.tree import DecisionTreeRegressor"
   ]
  },
  {
   "cell_type": "code",
   "execution_count": 9,
   "id": "1d9ca3d3",
   "metadata": {
    "scrolled": true
   },
   "outputs": [
    {
     "name": "stdout",
     "output_type": "stream",
     "text": [
      "Score on training set: 1.000\n"
     ]
    }
   ],
   "source": [
    "dt_ftimp = DecisionTreeRegressor(random_state=234,)\n",
    "dt_ftimp.fit(df_final_x, df_final_y)\n",
    "print(\"Score on training set: {:.3f}\".format(dt_ftimp.score(df_final_x, df_final_y)))"
   ]
  },
  {
   "cell_type": "code",
   "execution_count": 10,
   "id": "c9b3a8c5",
   "metadata": {},
   "outputs": [],
   "source": [
    "from matplotlib import pyplot as plt\n",
    "plt.rc('font', family='Malgun Gothic')"
   ]
  },
  {
   "cell_type": "code",
   "execution_count": 11,
   "id": "d45c0c72",
   "metadata": {
    "scrolled": false
   },
   "outputs": [
    {
     "data": {
      "text/plain": [
       "Text(0, 0.5, '설명변수')"
      ]
     },
     "execution_count": 11,
     "metadata": {},
     "output_type": "execute_result"
    },
    {
     "data": {
      "image/png": "[encoded data removed]",
      "text/plain": [
       "<Figure size 640x480 with 1 Axes>"
      ]
     },
     "metadata": {},
     "output_type": "display_data"
    }
   ],
   "source": [
    "df_importance = pd.DataFrame()# tree.feature_importances_로 설명 변수 중요도 확인 테이블로 저장\n",
    "df_importance['Feature'] = v_feature_name\n",
    "df_importance['Importance'] = dt_ftimp.feature_importances_\n",
    "#df_feature_importance의 테이블을 중요도 별로 정렬\n",
    "df_importance.sort_values('Importance', ascending = False, inplace = True)\n",
    "df_importance.round(3)\n",
    "df_importance.sort_values('Importance', ascending = True, inplace = True)\n",
    "coordinates = range(len(df_importance))\n",
    "plt.barh(y = coordinates, width = df_importance['Importance'])\n",
    "plt.yticks(coordinates, df_importance['Feature'])\n",
    "plt.xlabel('설명변수 중요도')\n",
    "plt.ylabel('설명변수')"
   ]
  },
  {
   "cell_type": "markdown",
   "id": "6d44c6f3",
   "metadata": {},
   "source": [
    "## RandomForestRegressor로 변수 중요도 확인"
   ]
  },
  {
   "cell_type": "code",
   "execution_count": 12,
   "id": "1303a618",
   "metadata": {},
   "outputs": [],
   "source": [
    "from sklearn.ensemble import RandomForestRegressor"
   ]
  },
  {
   "cell_type": "code",
   "execution_count": 13,
   "id": "5417e04a",
   "metadata": {},
   "outputs": [
    {
     "name": "stdout",
     "output_type": "stream",
     "text": [
      "Score on training set: 0.942\n"
     ]
    }
   ],
   "source": [
    "rf_ftimp = RandomForestRegressor(random_state=234,)\n",
    "rf_ftimp.fit(df_final_x, df_final_y)\n",
    "print(\"Score on training set: {:.3f}\".format(rf_ftimp.score(df_final_x, df_final_y)))"
   ]
  },
  {
   "cell_type": "code",
   "execution_count": 14,
   "id": "40c32e93",
   "metadata": {},
   "outputs": [
    {
     "data": {
      "text/plain": [
       "Text(0, 0.5, '설명변수')"
      ]
     },
     "execution_count": 14,
     "metadata": {},
     "output_type": "execute_result"
    },
    {
     "data": {
      "image/png": "[encoded data removed]",
      "text/plain": [
       "<Figure size 640x480 with 1 Axes>"
      ]
     },
     "metadata": {},
     "output_type": "display_data"
    }
   ],
   "source": [
    "df_importance = pd.DataFrame()# tree.feature_importances_로 설명 변수 중요도 확인 테이블로 저장\n",
    "df_importance['Feature'] = v_feature_name\n",
    "df_importance['Importance'] = rf_ftimp.feature_importances_\n",
    "#df_feature_importance의 테이블을 중요도 별로 정렬\n",
    "df_importance.sort_values('Importance', ascending = False, inplace = True)\n",
    "df_importance.round(3)\n",
    "df_importance.sort_values('Importance', ascending = True, inplace = True)\n",
    "coordinates = range(len(df_importance))\n",
    "plt.barh(y = coordinates, width = df_importance['Importance'])\n",
    "plt.yticks(coordinates, df_importance['Feature'])\n",
    "plt.xlabel('설명변수 중요도')\n",
    "plt.ylabel('설명변수')"
   ]
  },
  {
   "cell_type": "markdown",
   "id": "4626b6a0",
   "metadata": {},
   "source": [
    "## GradientBoostingRegressor를 통한 변수 중요도 확인"
   ]
  },
  {
   "cell_type": "code",
   "execution_count": 15,
   "id": "206ac86e",
   "metadata": {},
   "outputs": [],
   "source": [
    "from sklearn.ensemble import GradientBoostingRegressor"
   ]
  },
  {
   "cell_type": "code",
   "execution_count": 16,
   "id": "665cfd29",
   "metadata": {},
   "outputs": [
    {
     "name": "stdout",
     "output_type": "stream",
     "text": [
      "Score on training set: 0.999\n"
     ]
    }
   ],
   "source": [
    "gb_ftimp = GradientBoostingRegressor(random_state=234,)\n",
    "gb_ftimp.fit(df_final_x, df_final_y)\n",
    "print(\"Score on training set: {:.3f}\".format(gb_ftimp.score(df_final_x, df_final_y)))"
   ]
  },
  {
   "cell_type": "code",
   "execution_count": 17,
   "id": "729fc68c",
   "metadata": {},
   "outputs": [
    {
     "data": {
      "text/plain": [
       "Text(0, 0.5, '설명변수')"
      ]
     },
     "execution_count": 17,
     "metadata": {},
     "output_type": "execute_result"
    },
    {
     "data": {
      "image/png": "[encoded data removed]",
      "text/plain": [
       "<Figure size 640x480 with 1 Axes>"
      ]
     },
     "metadata": {},
     "output_type": "display_data"
    }
   ],
   "source": [
    "df_importance = pd.DataFrame()# tree.feature_importances_로 설명 변수 중요도 확인 테이블로 저장\n",
    "df_importance['Feature'] = v_feature_name\n",
    "df_importance['Importance'] = gb_ftimp.feature_importances_\n",
    "#df_feature_importance의 테이블을 중요도 별로 정렬\n",
    "df_importance.sort_values('Importance', ascending = False, inplace = True)\n",
    "df_importance.round(3)\n",
    "df_importance.sort_values('Importance', ascending = True, inplace = True)\n",
    "coordinates = range(len(df_importance))\n",
    "plt.barh(y = coordinates, width = df_importance['Importance'])\n",
    "plt.yticks(coordinates, df_importance['Feature'])\n",
    "plt.xlabel('설명변수 중요도')\n",
    "plt.ylabel('설명변수')"
   ]
  },
  {
   "cell_type": "markdown",
   "id": "521bc406",
   "metadata": {},
   "source": [
    "### >> \"new_state\" (지역) 변수를 추가하니 해당 변수의 중요도가 너무 높음. 해당 변수를 제외하고 나머지 변수들의 중요도를 보기 위해 변수 drop 후 다시 feature_importance 확인"
   ]
  },
  {
   "cell_type": "code",
   "execution_count": 18,
   "id": "d54d7587",
   "metadata": {
    "scrolled": true
   },
   "outputs": [
    {
     "data": {
      "text/html": [
       "<div>\n",
       "<style scoped>\n",
       "    .dataframe tbody tr th:only-of-type {\n",
       "        vertical-align: middle;\n",
       "    }\n",
       "\n",
       "    .dataframe tbody tr th {\n",
       "        vertical-align: top;\n",
       "    }\n",
       "\n",
       "    .dataframe thead th {\n",
       "        text-align: right;\n",
       "    }\n",
       "</style>\n",
       "<table border=\"1\" class=\"dataframe\">\n",
       "  <thead>\n",
       "    <tr style=\"text-align: right;\">\n",
       "      <th></th>\n",
       "      <th>visit_cnt</th>\n",
       "      <th>cctv_cnt</th>\n",
       "      <th>sclight_cnt</th>\n",
       "      <th>smalight_cnt</th>\n",
       "    </tr>\n",
       "  </thead>\n",
       "  <tbody>\n",
       "    <tr>\n",
       "      <th>0</th>\n",
       "      <td>8151609</td>\n",
       "      <td>515.0</td>\n",
       "      <td>4391.0</td>\n",
       "      <td>13.0</td>\n",
       "    </tr>\n",
       "    <tr>\n",
       "      <th>1</th>\n",
       "      <td>13399820</td>\n",
       "      <td>190.0</td>\n",
       "      <td>6747.0</td>\n",
       "      <td>46.0</td>\n",
       "    </tr>\n",
       "    <tr>\n",
       "      <th>2</th>\n",
       "      <td>15125927</td>\n",
       "      <td>428.0</td>\n",
       "      <td>1191.0</td>\n",
       "      <td>37.0</td>\n",
       "    </tr>\n",
       "    <tr>\n",
       "      <th>3</th>\n",
       "      <td>1828609</td>\n",
       "      <td>296.0</td>\n",
       "      <td>190.0</td>\n",
       "      <td>22.0</td>\n",
       "    </tr>\n",
       "    <tr>\n",
       "      <th>4</th>\n",
       "      <td>11612683</td>\n",
       "      <td>422.0</td>\n",
       "      <td>4391.0</td>\n",
       "      <td>94.0</td>\n",
       "    </tr>\n",
       "    <tr>\n",
       "      <th>...</th>\n",
       "      <td>...</td>\n",
       "      <td>...</td>\n",
       "      <td>...</td>\n",
       "      <td>...</td>\n",
       "    </tr>\n",
       "    <tr>\n",
       "      <th>73</th>\n",
       "      <td>12125010</td>\n",
       "      <td>979.0</td>\n",
       "      <td>9024.0</td>\n",
       "      <td>314.0</td>\n",
       "    </tr>\n",
       "    <tr>\n",
       "      <th>74</th>\n",
       "      <td>4737641</td>\n",
       "      <td>316.0</td>\n",
       "      <td>6349.0</td>\n",
       "      <td>99.0</td>\n",
       "    </tr>\n",
       "    <tr>\n",
       "      <th>75</th>\n",
       "      <td>14797862</td>\n",
       "      <td>1578.0</td>\n",
       "      <td>10600.0</td>\n",
       "      <td>219.0</td>\n",
       "    </tr>\n",
       "    <tr>\n",
       "      <th>76</th>\n",
       "      <td>4133509</td>\n",
       "      <td>1.0</td>\n",
       "      <td>6076.0</td>\n",
       "      <td>112.0</td>\n",
       "    </tr>\n",
       "    <tr>\n",
       "      <th>77</th>\n",
       "      <td>6679972</td>\n",
       "      <td>287.0</td>\n",
       "      <td>1499.0</td>\n",
       "      <td>21.0</td>\n",
       "    </tr>\n",
       "  </tbody>\n",
       "</table>\n",
       "<p>78 rows × 4 columns</p>\n",
       "</div>"
      ],
      "text/plain": [
       "    visit_cnt  cctv_cnt  sclight_cnt  smalight_cnt\n",
       "0     8151609     515.0       4391.0          13.0\n",
       "1    13399820     190.0       6747.0          46.0\n",
       "2    15125927     428.0       1191.0          37.0\n",
       "3     1828609     296.0        190.0          22.0\n",
       "4    11612683     422.0       4391.0          94.0\n",
       "..        ...       ...          ...           ...\n",
       "73   12125010     979.0       9024.0         314.0\n",
       "74    4737641     316.0       6349.0          99.0\n",
       "75   14797862    1578.0      10600.0         219.0\n",
       "76    4133509       1.0       6076.0         112.0\n",
       "77    6679972     287.0       1499.0          21.0\n",
       "\n",
       "[78 rows x 4 columns]"
      ]
     },
     "execution_count": 18,
     "metadata": {},
     "output_type": "execute_result"
    }
   ],
   "source": [
    "df_drop_state = df_final_x.drop(['new_state'], axis=1)\n",
    "df_drop_state"
   ]
  },
  {
   "cell_type": "code",
   "execution_count": 19,
   "id": "0e331122",
   "metadata": {},
   "outputs": [],
   "source": [
    "v_feature_name2 = df_drop_state.columns"
   ]
  },
  {
   "cell_type": "markdown",
   "id": "92f1f098",
   "metadata": {},
   "source": [
    "## new_state 컬럼 drop 후 DecisionTreeRegressor로 변수 중요도 다시 확인"
   ]
  },
  {
   "cell_type": "code",
   "execution_count": 20,
   "id": "9bec9817",
   "metadata": {},
   "outputs": [],
   "source": [
    "from matplotlib import pyplot as plt\n",
    "plt.rc('font', family='Malgun Gothic')"
   ]
  },
  {
   "cell_type": "code",
   "execution_count": 21,
   "id": "4bd1dceb",
   "metadata": {},
   "outputs": [],
   "source": [
    "from sklearn.tree import DecisionTreeRegressor"
   ]
  },
  {
   "cell_type": "code",
   "execution_count": 22,
   "id": "1b48e00f",
   "metadata": {},
   "outputs": [
    {
     "name": "stdout",
     "output_type": "stream",
     "text": [
      "Score on training set: 1.000\n"
     ]
    }
   ],
   "source": [
    "dt_ftimp2 = DecisionTreeRegressor(random_state=456,)\n",
    "dt_ftimp2.fit(df_drop_state, df_final_y)\n",
    "print(\"Score on training set: {:.3f}\".format(dt_ftimp2.score(df_drop_state, df_final_y)))"
   ]
  },
  {
   "cell_type": "code",
   "execution_count": 23,
   "id": "772196bd",
   "metadata": {
    "scrolled": true
   },
   "outputs": [
    {
     "data": {
      "text/plain": [
       "Text(0, 0.5, '설명변수')"
      ]
     },
     "execution_count": 23,
     "metadata": {},
     "output_type": "execute_result"
    },
    {
     "data": {
      "image/png": "[encoded data removed]",
      "text/plain": [
       "<Figure size 640x480 with 1 Axes>"
      ]
     },
     "metadata": {},
     "output_type": "display_data"
    }
   ],
   "source": [
    "df_importance = pd.DataFrame()# tree.feature_importances_로 설명 변수 중요도 확인 테이블로 저장\n",
    "df_importance['Feature'] = v_feature_name2\n",
    "df_importance['Importance'] = dt_ftimp2.feature_importances_\n",
    "#df_feature_importance의 테이블을 중요도 별로 정렬\n",
    "df_importance.sort_values('Importance', ascending = False, inplace = True)\n",
    "df_importance.round(3)\n",
    "df_importance.sort_values('Importance', ascending = True, inplace = True)\n",
    "coordinates = range(len(df_importance))\n",
    "plt.barh(y = coordinates, width = df_importance['Importance'])\n",
    "plt.yticks(coordinates, df_importance['Feature'])\n",
    "plt.xlabel('설명변수 중요도')\n",
    "plt.ylabel('설명변수')"
   ]
  },
  {
   "cell_type": "code",
   "execution_count": 24,
   "id": "8da6f0b5",
   "metadata": {},
   "outputs": [
    {
     "data": {
      "text/html": [
       "<div>\n",
       "<style scoped>\n",
       "    .dataframe tbody tr th:only-of-type {\n",
       "        vertical-align: middle;\n",
       "    }\n",
       "\n",
       "    .dataframe tbody tr th {\n",
       "        vertical-align: top;\n",
       "    }\n",
       "\n",
       "    .dataframe thead th {\n",
       "        text-align: right;\n",
       "    }\n",
       "</style>\n",
       "<table border=\"1\" class=\"dataframe\">\n",
       "  <thead>\n",
       "    <tr style=\"text-align: right;\">\n",
       "      <th></th>\n",
       "      <th>Feature</th>\n",
       "      <th>Importance</th>\n",
       "    </tr>\n",
       "  </thead>\n",
       "  <tbody>\n",
       "    <tr>\n",
       "      <th>3</th>\n",
       "      <td>smalight_cnt</td>\n",
       "      <td>0.399562</td>\n",
       "    </tr>\n",
       "    <tr>\n",
       "      <th>2</th>\n",
       "      <td>sclight_cnt</td>\n",
       "      <td>0.334109</td>\n",
       "    </tr>\n",
       "    <tr>\n",
       "      <th>1</th>\n",
       "      <td>cctv_cnt</td>\n",
       "      <td>0.238682</td>\n",
       "    </tr>\n",
       "    <tr>\n",
       "      <th>0</th>\n",
       "      <td>visit_cnt</td>\n",
       "      <td>0.027647</td>\n",
       "    </tr>\n",
       "  </tbody>\n",
       "</table>\n",
       "</div>"
      ],
      "text/plain": [
       "        Feature  Importance\n",
       "3  smalight_cnt    0.399562\n",
       "2   sclight_cnt    0.334109\n",
       "1      cctv_cnt    0.238682\n",
       "0     visit_cnt    0.027647"
      ]
     },
     "execution_count": 24,
     "metadata": {},
     "output_type": "execute_result"
    }
   ],
   "source": [
    "df_importance.sort_values(by='Importance', ascending=False)"
   ]
  },
  {
   "cell_type": "markdown",
   "id": "54afd2e8",
   "metadata": {},
   "source": [
    "## new_state 컬럼 drop 후 RandomForestRegressor로 변수 중요도 다시 확인"
   ]
  },
  {
   "cell_type": "code",
   "execution_count": 25,
   "id": "48f75523",
   "metadata": {},
   "outputs": [],
   "source": [
    "from sklearn.ensemble import RandomForestRegressor"
   ]
  },
  {
   "cell_type": "code",
   "execution_count": 26,
   "id": "3753c41d",
   "metadata": {},
   "outputs": [
    {
     "name": "stdout",
     "output_type": "stream",
     "text": [
      "Score on training set: 0.834\n"
     ]
    }
   ],
   "source": [
    "rf_ftimp2 = RandomForestRegressor(random_state=456,)\n",
    "rf_ftimp2.fit(df_drop_state, df_final_y)\n",
    "print(\"Score on training set: {:.3f}\".format(rf_ftimp2.score(df_drop_state, df_final_y)))"
   ]
  },
  {
   "cell_type": "code",
   "execution_count": 27,
   "id": "975a9f15",
   "metadata": {
    "scrolled": true
   },
   "outputs": [
    {
     "data": {
      "text/plain": [
       "Text(0, 0.5, '설명변수')"
      ]
     },
     "execution_count": 27,
     "metadata": {},
     "output_type": "execute_result"
    },
    {
     "data": {
      "image/png": "[encoded data removed]",
      "text/plain": [
       "<Figure size 640x480 with 1 Axes>"
      ]
     },
     "metadata": {},
     "output_type": "display_data"
    }
   ],
   "source": [
    "df_importance = pd.DataFrame()# tree.feature_importances_로 설명 변수 중요도 확인 테이블로 저장\n",
    "df_importance['Feature'] = v_feature_name2\n",
    "df_importance['Importance'] = rf_ftimp2.feature_importances_\n",
    "#df_feature_importance의 테이블을 중요도 별로 정렬\n",
    "df_importance.sort_values('Importance', ascending = False, inplace = True)\n",
    "df_importance.round(3)\n",
    "df_importance.sort_values('Importance', ascending = True, inplace = True)\n",
    "coordinates = range(len(df_importance))\n",
    "plt.barh(y = coordinates, width = df_importance['Importance'])\n",
    "plt.yticks(coordinates, df_importance['Feature'])\n",
    "plt.xlabel('설명변수 중요도')\n",
    "plt.ylabel('설명변수')"
   ]
  },
  {
   "cell_type": "code",
   "execution_count": 28,
   "id": "14dace98",
   "metadata": {},
   "outputs": [
    {
     "data": {
      "text/html": [
       "<div>\n",
       "<style scoped>\n",
       "    .dataframe tbody tr th:only-of-type {\n",
       "        vertical-align: middle;\n",
       "    }\n",
       "\n",
       "    .dataframe tbody tr th {\n",
       "        vertical-align: top;\n",
       "    }\n",
       "\n",
       "    .dataframe thead th {\n",
       "        text-align: right;\n",
       "    }\n",
       "</style>\n",
       "<table border=\"1\" class=\"dataframe\">\n",
       "  <thead>\n",
       "    <tr style=\"text-align: right;\">\n",
       "      <th></th>\n",
       "      <th>Feature</th>\n",
       "      <th>Importance</th>\n",
       "    </tr>\n",
       "  </thead>\n",
       "  <tbody>\n",
       "    <tr>\n",
       "      <th>2</th>\n",
       "      <td>sclight_cnt</td>\n",
       "      <td>0.109294</td>\n",
       "    </tr>\n",
       "    <tr>\n",
       "      <th>0</th>\n",
       "      <td>visit_cnt</td>\n",
       "      <td>0.181528</td>\n",
       "    </tr>\n",
       "    <tr>\n",
       "      <th>1</th>\n",
       "      <td>cctv_cnt</td>\n",
       "      <td>0.290758</td>\n",
       "    </tr>\n",
       "    <tr>\n",
       "      <th>3</th>\n",
       "      <td>smalight_cnt</td>\n",
       "      <td>0.418421</td>\n",
       "    </tr>\n",
       "  </tbody>\n",
       "</table>\n",
       "</div>"
      ],
      "text/plain": [
       "        Feature  Importance\n",
       "2   sclight_cnt    0.109294\n",
       "0     visit_cnt    0.181528\n",
       "1      cctv_cnt    0.290758\n",
       "3  smalight_cnt    0.418421"
      ]
     },
     "execution_count": 28,
     "metadata": {},
     "output_type": "execute_result"
    }
   ],
   "source": [
    "df_importance"
   ]
  },
  {
   "cell_type": "markdown",
   "id": "552593a4",
   "metadata": {},
   "source": [
    "## new_state 컬럼 drop 후 GradientBoostingRegressor로 변수 중요도 다시 확인"
   ]
  },
  {
   "cell_type": "code",
   "execution_count": 29,
   "id": "bd8e5574",
   "metadata": {},
   "outputs": [],
   "source": [
    "from sklearn.ensemble import GradientBoostingRegressor"
   ]
  },
  {
   "cell_type": "code",
   "execution_count": 30,
   "id": "7554c436",
   "metadata": {},
   "outputs": [
    {
     "name": "stdout",
     "output_type": "stream",
     "text": [
      "Score on training set: 0.982\n"
     ]
    }
   ],
   "source": [
    "gb_ftimp2 = GradientBoostingRegressor(random_state=234,)\n",
    "gb_ftimp2.fit(df_drop_state, df_final_y)\n",
    "print(\"Score on training set: {:.3f}\".format(gb_ftimp2.score(df_drop_state, df_final_y)))"
   ]
  },
  {
   "cell_type": "code",
   "execution_count": 31,
   "id": "5413ff12",
   "metadata": {
    "scrolled": true
   },
   "outputs": [
    {
     "data": {
      "text/plain": [
       "Text(0, 0.5, '설명변수')"
      ]
     },
     "execution_count": 31,
     "metadata": {},
     "output_type": "execute_result"
    },
    {
     "data": {
      "image/png": "[encoded data removed]",
      "text/plain": [
       "<Figure size 640x480 with 1 Axes>"
      ]
     },
     "metadata": {},
     "output_type": "display_data"
    }
   ],
   "source": [
    "df_importance = pd.DataFrame()# tree.feature_importances_로 설명 변수 중요도 확인 테이블로 저장\n",
    "df_importance['Feature'] = v_feature_name2\n",
    "df_importance['Importance'] = gb_ftimp2.feature_importances_\n",
    "#df_feature_importance의 테이블을 중요도 별로 정렬\n",
    "df_importance.sort_values('Importance', ascending = False, inplace = True)\n",
    "df_importance.round(3)\n",
    "df_importance.sort_values('Importance', ascending = True, inplace = True)\n",
    "coordinates = range(len(df_importance))\n",
    "plt.barh(y = coordinates, width = df_importance['Importance'])\n",
    "plt.yticks(coordinates, df_importance['Feature'])\n",
    "plt.xlabel('설명변수 중요도')\n",
    "plt.ylabel('설명변수')"
   ]
  },
  {
   "cell_type": "markdown",
   "id": "d9a2c185",
   "metadata": {},
   "source": [
    "## 설명변수의 단위가 다르고, 정규성 검정 결과 정규성을 띄지 않는 변수(cctv_cnt, smalight_cnt) 들이 있어서 min-max scailing 진행 해보기로 함"
   ]
  },
  {
   "cell_type": "code",
   "execution_count": 32,
   "id": "ec91dff4",
   "metadata": {},
   "outputs": [],
   "source": [
    "from sklearn.preprocessing import MinMaxScaler"
   ]
  },
  {
   "cell_type": "code",
   "execution_count": 33,
   "id": "45954266",
   "metadata": {
    "scrolled": false
   },
   "outputs": [
    {
     "data": {
      "text/html": [
       "<div>\n",
       "<style scoped>\n",
       "    .dataframe tbody tr th:only-of-type {\n",
       "        vertical-align: middle;\n",
       "    }\n",
       "\n",
       "    .dataframe tbody tr th {\n",
       "        vertical-align: top;\n",
       "    }\n",
       "\n",
       "    .dataframe thead th {\n",
       "        text-align: right;\n",
       "    }\n",
       "</style>\n",
       "<table border=\"1\" class=\"dataframe\">\n",
       "  <thead>\n",
       "    <tr style=\"text-align: right;\">\n",
       "      <th></th>\n",
       "      <th>visit_cnt</th>\n",
       "      <th>cctv_cnt</th>\n",
       "      <th>sclight_cnt</th>\n",
       "      <th>smalight_cnt</th>\n",
       "    </tr>\n",
       "  </thead>\n",
       "  <tbody>\n",
       "    <tr>\n",
       "      <th>0</th>\n",
       "      <td>0.133131</td>\n",
       "      <td>0.045382</td>\n",
       "      <td>0.160927</td>\n",
       "      <td>0.006901</td>\n",
       "    </tr>\n",
       "    <tr>\n",
       "      <th>1</th>\n",
       "      <td>0.236364</td>\n",
       "      <td>0.016687</td>\n",
       "      <td>0.251178</td>\n",
       "      <td>0.025877</td>\n",
       "    </tr>\n",
       "    <tr>\n",
       "      <th>2</th>\n",
       "      <td>0.270317</td>\n",
       "      <td>0.037701</td>\n",
       "      <td>0.038345</td>\n",
       "      <td>0.020702</td>\n",
       "    </tr>\n",
       "    <tr>\n",
       "      <th>3</th>\n",
       "      <td>0.008756</td>\n",
       "      <td>0.026046</td>\n",
       "      <td>0.000000</td>\n",
       "      <td>0.012076</td>\n",
       "    </tr>\n",
       "    <tr>\n",
       "      <th>4</th>\n",
       "      <td>0.201210</td>\n",
       "      <td>0.037171</td>\n",
       "      <td>0.160927</td>\n",
       "      <td>0.053479</td>\n",
       "    </tr>\n",
       "  </tbody>\n",
       "</table>\n",
       "</div>"
      ],
      "text/plain": [
       "   visit_cnt  cctv_cnt  sclight_cnt  smalight_cnt\n",
       "0   0.133131  0.045382     0.160927      0.006901\n",
       "1   0.236364  0.016687     0.251178      0.025877\n",
       "2   0.270317  0.037701     0.038345      0.020702\n",
       "3   0.008756  0.026046     0.000000      0.012076\n",
       "4   0.201210  0.037171     0.160927      0.053479"
      ]
     },
     "execution_count": 33,
     "metadata": {},
     "output_type": "execute_result"
    }
   ],
   "source": [
    "scaler=MinMaxScaler(feature_range=(0,1))\n",
    "df_scaled=scaler.fit_transform(df_drop_state)\n",
    "df_scaled=pd.DataFrame(df_scaled, columns=v_feature_name2)\n",
    "df_scaled.head()"
   ]
  },
  {
   "cell_type": "markdown",
   "id": "f4f1a1d4",
   "metadata": {},
   "source": [
    "## Min-Max Scale 후 DecisionTreeRegressor로 설명변수 중요도 확인"
   ]
  },
  {
   "cell_type": "code",
   "execution_count": 34,
   "id": "c44b9a5f",
   "metadata": {},
   "outputs": [
    {
     "name": "stdout",
     "output_type": "stream",
     "text": [
      "Score on training set: 1.000\n"
     ]
    }
   ],
   "source": [
    "dt_ftimp3 = DecisionTreeRegressor(random_state=789,)\n",
    "dt_ftimp3.fit(df_scaled, df_final_y)\n",
    "print(\"Score on training set: {:.3f}\".format(dt_ftimp3.score(df_scaled, df_final_y)))"
   ]
  },
  {
   "cell_type": "code",
   "execution_count": 35,
   "id": "5952d6c6",
   "metadata": {
    "scrolled": true
   },
   "outputs": [
    {
     "data": {
      "text/plain": [
       "Text(0, 0.5, '설명변수')"
      ]
     },
     "execution_count": 35,
     "metadata": {},
     "output_type": "execute_result"
    },
    {
     "data": {
      "image/png": "[encoded data removed]",
      "text/plain": [
       "<Figure size 640x480 with 1 Axes>"
      ]
     },
     "metadata": {},
     "output_type": "display_data"
    }
   ],
   "source": [
    "df_importance2 = pd.DataFrame()# tree.feature_importances_로 설명 변수 중요도 확인 테이블로 저장\n",
    "df_importance2['Feature'] = v_feature_name2\n",
    "df_importance2['Importance'] = dt_ftimp3.feature_importances_\n",
    "#df_feature_importance의 테이블을 중요도 별로 정렬\n",
    "df_importance2.sort_values('Importance', ascending = False, inplace = True)\n",
    "df_importance2.round(3)\n",
    "df_importance2.sort_values('Importance', ascending = True, inplace = True)\n",
    "coordinates = range(len(df_importance2))\n",
    "plt.barh(y = coordinates, width = df_importance2['Importance'])\n",
    "plt.yticks(coordinates, df_importance2['Feature'])\n",
    "plt.xlabel('설명변수 중요도')\n",
    "plt.ylabel('설명변수')"
   ]
  },
  {
   "cell_type": "code",
   "execution_count": 40,
   "id": "a378e254",
   "metadata": {
    "scrolled": false
   },
   "outputs": [],
   "source": [
    "df_importance2.sort_values(by='Importance', ascending=False, inplace=True)"
   ]
  },
  {
   "cell_type": "code",
   "execution_count": 37,
   "id": "6d90050f",
   "metadata": {},
   "outputs": [
    {
     "data": {
      "text/plain": [
       "Feature       visit_cntcctv_cntsmalight_cntsclight_cnt\n",
       "Importance                                         1.0\n",
       "dtype: object"
      ]
     },
     "execution_count": 37,
     "metadata": {},
     "output_type": "execute_result"
    }
   ],
   "source": [
    "df_importance2.sum()"
   ]
  },
  {
   "cell_type": "code",
   "execution_count": null,
   "id": "ff4eb37d",
   "metadata": {},
   "outputs": [],
   "source": [
    "# cctv_cnt / 인구밀도별 등등 다시 데이터 보기\n",
    "# 아마도 서울 > 인구밀도가 너무 높아서.. 기존의 회귀 결과가 어쩌면 make sense함."
   ]
  },
  {
   "cell_type": "code",
   "execution_count": 41,
   "id": "75854d1b",
   "metadata": {
    "scrolled": false
   },
   "outputs": [
    {
     "data": {
      "text/html": [
       "<div>\n",
       "<style scoped>\n",
       "    .dataframe tbody tr th:only-of-type {\n",
       "        vertical-align: middle;\n",
       "    }\n",
       "\n",
       "    .dataframe tbody tr th {\n",
       "        vertical-align: top;\n",
       "    }\n",
       "\n",
       "    .dataframe thead th {\n",
       "        text-align: right;\n",
       "    }\n",
       "</style>\n",
       "<table border=\"1\" class=\"dataframe\">\n",
       "  <thead>\n",
       "    <tr style=\"text-align: right;\">\n",
       "      <th></th>\n",
       "      <th>Feature</th>\n",
       "      <th>Importance</th>\n",
       "    </tr>\n",
       "  </thead>\n",
       "  <tbody>\n",
       "    <tr>\n",
       "      <th>2</th>\n",
       "      <td>sclight_cnt</td>\n",
       "      <td>0.388600</td>\n",
       "    </tr>\n",
       "    <tr>\n",
       "      <th>3</th>\n",
       "      <td>smalight_cnt</td>\n",
       "      <td>0.288090</td>\n",
       "    </tr>\n",
       "    <tr>\n",
       "      <th>1</th>\n",
       "      <td>cctv_cnt</td>\n",
       "      <td>0.247209</td>\n",
       "    </tr>\n",
       "    <tr>\n",
       "      <th>0</th>\n",
       "      <td>visit_cnt</td>\n",
       "      <td>0.076101</td>\n",
       "    </tr>\n",
       "  </tbody>\n",
       "</table>\n",
       "</div>"
      ],
      "text/plain": [
       "        Feature  Importance\n",
       "2   sclight_cnt    0.388600\n",
       "3  smalight_cnt    0.288090\n",
       "1      cctv_cnt    0.247209\n",
       "0     visit_cnt    0.076101"
      ]
     },
     "execution_count": 41,
     "metadata": {},
     "output_type": "execute_result"
    }
   ],
   "source": [
    "df_importance2"
   ]
  },
  {
   "cell_type": "code",
   "execution_count": 48,
   "id": "3b79850f",
   "metadata": {
    "scrolled": true
   },
   "outputs": [
    {
     "data": {
      "text/html": [
       "<div>\n",
       "<style scoped>\n",
       "    .dataframe tbody tr th:only-of-type {\n",
       "        vertical-align: middle;\n",
       "    }\n",
       "\n",
       "    .dataframe tbody tr th {\n",
       "        vertical-align: top;\n",
       "    }\n",
       "\n",
       "    .dataframe thead th {\n",
       "        text-align: right;\n",
       "    }\n",
       "</style>\n",
       "<table border=\"1\" class=\"dataframe\">\n",
       "  <thead>\n",
       "    <tr style=\"text-align: right;\">\n",
       "      <th></th>\n",
       "      <th>visit_cnt</th>\n",
       "      <th>cctv_cnt</th>\n",
       "      <th>sclight_cnt</th>\n",
       "      <th>smalight_cnt</th>\n",
       "    </tr>\n",
       "    <tr>\n",
       "      <th>state</th>\n",
       "      <th></th>\n",
       "      <th></th>\n",
       "      <th></th>\n",
       "      <th></th>\n",
       "    </tr>\n",
       "  </thead>\n",
       "  <tbody>\n",
       "    <tr>\n",
       "      <th>강원도</th>\n",
       "      <td>50118648</td>\n",
       "      <td>1851.0</td>\n",
       "      <td>16910.0</td>\n",
       "      <td>212.0</td>\n",
       "    </tr>\n",
       "    <tr>\n",
       "      <th>경기도</th>\n",
       "      <td>126607094</td>\n",
       "      <td>16003.0</td>\n",
       "      <td>51854.0</td>\n",
       "      <td>2173.0</td>\n",
       "    </tr>\n",
       "    <tr>\n",
       "      <th>경상남도</th>\n",
       "      <td>49487026</td>\n",
       "      <td>5101.0</td>\n",
       "      <td>33514.0</td>\n",
       "      <td>275.0</td>\n",
       "    </tr>\n",
       "    <tr>\n",
       "      <th>경상북도</th>\n",
       "      <td>19024802</td>\n",
       "      <td>2523.0</td>\n",
       "      <td>30588.0</td>\n",
       "      <td>226.0</td>\n",
       "    </tr>\n",
       "    <tr>\n",
       "      <th>광주광역시</th>\n",
       "      <td>99400593</td>\n",
       "      <td>1720.0</td>\n",
       "      <td>42196.0</td>\n",
       "      <td>255.0</td>\n",
       "    </tr>\n",
       "    <tr>\n",
       "      <th>대구광역시</th>\n",
       "      <td>132201023</td>\n",
       "      <td>9128.0</td>\n",
       "      <td>57018.0</td>\n",
       "      <td>237.0</td>\n",
       "    </tr>\n",
       "    <tr>\n",
       "      <th>대전광역시</th>\n",
       "      <td>101756434</td>\n",
       "      <td>3550.0</td>\n",
       "      <td>60008.0</td>\n",
       "      <td>306.5</td>\n",
       "    </tr>\n",
       "    <tr>\n",
       "      <th>부산광역시</th>\n",
       "      <td>99646860</td>\n",
       "      <td>2198.0</td>\n",
       "      <td>22283.0</td>\n",
       "      <td>191.0</td>\n",
       "    </tr>\n",
       "    <tr>\n",
       "      <th>서울특별시</th>\n",
       "      <td>106405870</td>\n",
       "      <td>9226.0</td>\n",
       "      <td>47125.0</td>\n",
       "      <td>3826.0</td>\n",
       "    </tr>\n",
       "    <tr>\n",
       "      <th>세종특별자치시</th>\n",
       "      <td>18211355</td>\n",
       "      <td>1218.0</td>\n",
       "      <td>8029.0</td>\n",
       "      <td>23.0</td>\n",
       "    </tr>\n",
       "    <tr>\n",
       "      <th>울산광역시</th>\n",
       "      <td>78431845</td>\n",
       "      <td>7066.0</td>\n",
       "      <td>32470.0</td>\n",
       "      <td>2941.0</td>\n",
       "    </tr>\n",
       "    <tr>\n",
       "      <th>인천광역시</th>\n",
       "      <td>105333389</td>\n",
       "      <td>4090.0</td>\n",
       "      <td>28833.0</td>\n",
       "      <td>1506.0</td>\n",
       "    </tr>\n",
       "    <tr>\n",
       "      <th>전라남도</th>\n",
       "      <td>42515895</td>\n",
       "      <td>3560.0</td>\n",
       "      <td>50056.5</td>\n",
       "      <td>285.0</td>\n",
       "    </tr>\n",
       "    <tr>\n",
       "      <th>전라북도</th>\n",
       "      <td>43990743</td>\n",
       "      <td>3643.0</td>\n",
       "      <td>47745.0</td>\n",
       "      <td>142.0</td>\n",
       "    </tr>\n",
       "    <tr>\n",
       "      <th>제주특별자치도</th>\n",
       "      <td>91070286</td>\n",
       "      <td>1160.0</td>\n",
       "      <td>33542.0</td>\n",
       "      <td>142.0</td>\n",
       "    </tr>\n",
       "    <tr>\n",
       "      <th>충청남도</th>\n",
       "      <td>67202388</td>\n",
       "      <td>8987.0</td>\n",
       "      <td>56710.0</td>\n",
       "      <td>865.0</td>\n",
       "    </tr>\n",
       "    <tr>\n",
       "      <th>충청북도</th>\n",
       "      <td>42473994</td>\n",
       "      <td>3161.0</td>\n",
       "      <td>33548.0</td>\n",
       "      <td>765.0</td>\n",
       "    </tr>\n",
       "  </tbody>\n",
       "</table>\n",
       "</div>"
      ],
      "text/plain": [
       "         visit_cnt  cctv_cnt  sclight_cnt  smalight_cnt\n",
       "state                                                  \n",
       "강원도       50118648    1851.0      16910.0         212.0\n",
       "경기도      126607094   16003.0      51854.0        2173.0\n",
       "경상남도      49487026    5101.0      33514.0         275.0\n",
       "경상북도      19024802    2523.0      30588.0         226.0\n",
       "광주광역시     99400593    1720.0      42196.0         255.0\n",
       "대구광역시    132201023    9128.0      57018.0         237.0\n",
       "대전광역시    101756434    3550.0      60008.0         306.5\n",
       "부산광역시     99646860    2198.0      22283.0         191.0\n",
       "서울특별시    106405870    9226.0      47125.0        3826.0\n",
       "세종특별자치시   18211355    1218.0       8029.0          23.0\n",
       "울산광역시     78431845    7066.0      32470.0        2941.0\n",
       "인천광역시    105333389    4090.0      28833.0        1506.0\n",
       "전라남도      42515895    3560.0      50056.5         285.0\n",
       "전라북도      43990743    3643.0      47745.0         142.0\n",
       "제주특별자치도   91070286    1160.0      33542.0         142.0\n",
       "충청남도      67202388    8987.0      56710.0         865.0\n",
       "충청북도      42473994    3161.0      33548.0         765.0"
      ]
     },
     "execution_count": 48,
     "metadata": {},
     "output_type": "execute_result"
    }
   ],
   "source": [
    "df_withindex=df_final.drop(['new_state', 'mean_hours', 'mean_days', 'crime_rate', 'avg_pop_density'], axis=1)\n",
    "df_withindex.groupby('state').sum()"
   ]
  },
  {
   "cell_type": "code",
   "execution_count": 46,
   "id": "add6d4cc",
   "metadata": {},
   "outputs": [
    {
     "data": {
      "text/html": [
       "<div>\n",
       "<style scoped>\n",
       "    .dataframe tbody tr th:only-of-type {\n",
       "        vertical-align: middle;\n",
       "    }\n",
       "\n",
       "    .dataframe tbody tr th {\n",
       "        vertical-align: top;\n",
       "    }\n",
       "\n",
       "    .dataframe thead th {\n",
       "        text-align: right;\n",
       "    }\n",
       "</style>\n",
       "<table border=\"1\" class=\"dataframe\">\n",
       "  <thead>\n",
       "    <tr style=\"text-align: right;\">\n",
       "      <th></th>\n",
       "      <th>state</th>\n",
       "      <th>city</th>\n",
       "      <th>visit_cnt</th>\n",
       "      <th>cctv_cnt</th>\n",
       "      <th>sclight_cnt</th>\n",
       "      <th>smalight_cnt</th>\n",
       "      <th>crime_rate</th>\n",
       "      <th>avg_pop_density</th>\n",
       "      <th>mean_hours</th>\n",
       "      <th>mean_days</th>\n",
       "      <th>new_state</th>\n",
       "    </tr>\n",
       "  </thead>\n",
       "  <tbody>\n",
       "    <tr>\n",
       "      <th>0</th>\n",
       "      <td>강원도</td>\n",
       "      <td>정선군</td>\n",
       "      <td>8151609</td>\n",
       "      <td>515.0</td>\n",
       "      <td>4391.0</td>\n",
       "      <td>13.0</td>\n",
       "      <td>0.0271</td>\n",
       "      <td>90.36</td>\n",
       "      <td>427.8</td>\n",
       "      <td>1.62</td>\n",
       "      <td>강원도 정선군</td>\n",
       "    </tr>\n",
       "    <tr>\n",
       "      <th>1</th>\n",
       "      <td>강원도</td>\n",
       "      <td>평창군</td>\n",
       "      <td>13399820</td>\n",
       "      <td>190.0</td>\n",
       "      <td>6747.0</td>\n",
       "      <td>46.0</td>\n",
       "      <td>0.0271</td>\n",
       "      <td>90.36</td>\n",
       "      <td>395.8</td>\n",
       "      <td>1.62</td>\n",
       "      <td>강원도 평창군</td>\n",
       "    </tr>\n",
       "    <tr>\n",
       "      <th>2</th>\n",
       "      <td>강원도</td>\n",
       "      <td>홍천군</td>\n",
       "      <td>15125927</td>\n",
       "      <td>428.0</td>\n",
       "      <td>1191.0</td>\n",
       "      <td>37.0</td>\n",
       "      <td>0.0271</td>\n",
       "      <td>90.36</td>\n",
       "      <td>388.8</td>\n",
       "      <td>1.54</td>\n",
       "      <td>강원도 홍천군</td>\n",
       "    </tr>\n",
       "    <tr>\n",
       "      <th>3</th>\n",
       "      <td>강원도</td>\n",
       "      <td>양구군</td>\n",
       "      <td>1828609</td>\n",
       "      <td>296.0</td>\n",
       "      <td>190.0</td>\n",
       "      <td>22.0</td>\n",
       "      <td>0.0271</td>\n",
       "      <td>90.36</td>\n",
       "      <td>387.2</td>\n",
       "      <td>1.80</td>\n",
       "      <td>강원도 양구군</td>\n",
       "    </tr>\n",
       "    <tr>\n",
       "      <th>4</th>\n",
       "      <td>강원도</td>\n",
       "      <td>고성군</td>\n",
       "      <td>11612683</td>\n",
       "      <td>422.0</td>\n",
       "      <td>4391.0</td>\n",
       "      <td>94.0</td>\n",
       "      <td>0.0271</td>\n",
       "      <td>90.36</td>\n",
       "      <td>375.2</td>\n",
       "      <td>1.56</td>\n",
       "      <td>강원도 고성군</td>\n",
       "    </tr>\n",
       "    <tr>\n",
       "      <th>...</th>\n",
       "      <td>...</td>\n",
       "      <td>...</td>\n",
       "      <td>...</td>\n",
       "      <td>...</td>\n",
       "      <td>...</td>\n",
       "      <td>...</td>\n",
       "      <td>...</td>\n",
       "      <td>...</td>\n",
       "      <td>...</td>\n",
       "      <td>...</td>\n",
       "      <td>...</td>\n",
       "    </tr>\n",
       "    <tr>\n",
       "      <th>73</th>\n",
       "      <td>충청북도</td>\n",
       "      <td>제천시</td>\n",
       "      <td>12125010</td>\n",
       "      <td>979.0</td>\n",
       "      <td>9024.0</td>\n",
       "      <td>314.0</td>\n",
       "      <td>0.0299</td>\n",
       "      <td>219.20</td>\n",
       "      <td>324.8</td>\n",
       "      <td>1.60</td>\n",
       "      <td>충청북도 제천시</td>\n",
       "    </tr>\n",
       "    <tr>\n",
       "      <th>74</th>\n",
       "      <td>충청북도</td>\n",
       "      <td>보은군</td>\n",
       "      <td>4737641</td>\n",
       "      <td>316.0</td>\n",
       "      <td>6349.0</td>\n",
       "      <td>99.0</td>\n",
       "      <td>0.0299</td>\n",
       "      <td>219.20</td>\n",
       "      <td>298.2</td>\n",
       "      <td>1.54</td>\n",
       "      <td>충청북도 보은군</td>\n",
       "    </tr>\n",
       "    <tr>\n",
       "      <th>75</th>\n",
       "      <td>충청북도</td>\n",
       "      <td>충주시</td>\n",
       "      <td>14797862</td>\n",
       "      <td>1578.0</td>\n",
       "      <td>10600.0</td>\n",
       "      <td>219.0</td>\n",
       "      <td>0.0299</td>\n",
       "      <td>219.20</td>\n",
       "      <td>296.8</td>\n",
       "      <td>1.64</td>\n",
       "      <td>충청북도 충주시</td>\n",
       "    </tr>\n",
       "    <tr>\n",
       "      <th>76</th>\n",
       "      <td>충청북도</td>\n",
       "      <td>영동군</td>\n",
       "      <td>4133509</td>\n",
       "      <td>1.0</td>\n",
       "      <td>6076.0</td>\n",
       "      <td>112.0</td>\n",
       "      <td>0.0299</td>\n",
       "      <td>219.20</td>\n",
       "      <td>296.4</td>\n",
       "      <td>1.64</td>\n",
       "      <td>충청북도 영동군</td>\n",
       "    </tr>\n",
       "    <tr>\n",
       "      <th>77</th>\n",
       "      <td>충청북도</td>\n",
       "      <td>단양군</td>\n",
       "      <td>6679972</td>\n",
       "      <td>287.0</td>\n",
       "      <td>1499.0</td>\n",
       "      <td>21.0</td>\n",
       "      <td>0.0299</td>\n",
       "      <td>219.20</td>\n",
       "      <td>283.2</td>\n",
       "      <td>1.48</td>\n",
       "      <td>충청북도 단양군</td>\n",
       "    </tr>\n",
       "  </tbody>\n",
       "</table>\n",
       "<p>78 rows × 11 columns</p>\n",
       "</div>"
      ],
      "text/plain": [
       "   state city  visit_cnt  cctv_cnt  sclight_cnt  smalight_cnt  crime_rate  \\\n",
       "0    강원도  정선군    8151609     515.0       4391.0          13.0      0.0271   \n",
       "1    강원도  평창군   13399820     190.0       6747.0          46.0      0.0271   \n",
       "2    강원도  홍천군   15125927     428.0       1191.0          37.0      0.0271   \n",
       "3    강원도  양구군    1828609     296.0        190.0          22.0      0.0271   \n",
       "4    강원도  고성군   11612683     422.0       4391.0          94.0      0.0271   \n",
       "..   ...  ...        ...       ...          ...           ...         ...   \n",
       "73  충청북도  제천시   12125010     979.0       9024.0         314.0      0.0299   \n",
       "74  충청북도  보은군    4737641     316.0       6349.0          99.0      0.0299   \n",
       "75  충청북도  충주시   14797862    1578.0      10600.0         219.0      0.0299   \n",
       "76  충청북도  영동군    4133509       1.0       6076.0         112.0      0.0299   \n",
       "77  충청북도  단양군    6679972     287.0       1499.0          21.0      0.0299   \n",
       "\n",
       "    avg_pop_density  mean_hours  mean_days new_state  \n",
       "0             90.36       427.8       1.62   강원도 정선군  \n",
       "1             90.36       395.8       1.62   강원도 평창군  \n",
       "2             90.36       388.8       1.54   강원도 홍천군  \n",
       "3             90.36       387.2       1.80   강원도 양구군  \n",
       "4             90.36       375.2       1.56   강원도 고성군  \n",
       "..              ...         ...        ...       ...  \n",
       "73           219.20       324.8       1.60  충청북도 제천시  \n",
       "74           219.20       298.2       1.54  충청북도 보은군  \n",
       "75           219.20       296.8       1.64  충청북도 충주시  \n",
       "76           219.20       296.4       1.64  충청북도 영동군  \n",
       "77           219.20       283.2       1.48  충청북도 단양군  \n",
       "\n",
       "[78 rows x 11 columns]"
      ]
     },
     "execution_count": 46,
     "metadata": {},
     "output_type": "execute_result"
    }
   ],
   "source": [
    "df_final"
   ]
  },
  {
   "cell_type": "code",
   "execution_count": null,
   "id": "d8d74d41",
   "metadata": {},
   "outputs": [],
   "source": [
    "# G(지수) = 0.39*(sclight_cnt) + 0.29*(smalight_cnt) + 0.25*(cctv_cnt) + 0.08*(visit_cnt)"
   ]
  },
  {
   "cell_type": "code",
   "execution_count": null,
   "id": "99987976",
   "metadata": {},
   "outputs": [],
   "source": [
    "# 회귀분석 -뼈대 잡고, ml/dl - 보정 "
   ]
  }
 ],
 "metadata": {
  "kernelspec": {
   "display_name": "Python 3",
   "language": "python",
   "name": "python3"
  },
  "language_info": {
   "codemirror_mode": {
    "name": "ipython",
    "version": 3
   },
   "file_extension": ".py",
   "mimetype": "text/x-python",
   "name": "python",
   "nbconvert_exporter": "python",
   "pygments_lexer": "ipython3",
   "version": "3.8.8"
  },
  "toc": {
   "base_numbering": 1,
   "nav_menu": {},
   "number_sections": true,
   "sideBar": true,
   "skip_h1_title": true,
   "title_cell": "목차",
   "title_sidebar": "Contents",
   "toc_cell": true,
   "toc_position": {},
   "toc_section_display": true,
   "toc_window_display": true
  }
 },
 "nbformat": 4,
 "nbformat_minor": 5
}
